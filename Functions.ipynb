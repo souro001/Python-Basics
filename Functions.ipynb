{
  "nbformat": 4,
  "nbformat_minor": 0,
  "metadata": {
    "colab": {
      "provenance": []
    },
    "kernelspec": {
      "name": "python3",
      "display_name": "Python 3"
    },
    "language_info": {
      "name": "python"
    }
  },
  "cells": [
    {
      "cell_type": "markdown",
      "source": [
        "\n",
        "### 1. What is Python, and why is it popular?\n",
        "  Python is a high-level, interpreted programming language known for its simplicity and readability. It is popular for several reasons:\n",
        "- Easy to Learn and Use: Python's syntax is straightforward and easy to understand, making it an excellent choice for beginners.\n",
        "- Versatile: Python can be used for web development, data analysis, artificial intelligence, scientific computing, and more.\n",
        "- Extensive Libraries and Frameworks: Python has a rich ecosystem of libraries and frameworks that simplify development tasks.\n",
        "- Strong Community Support: A large and active community of developers contributes to Python's continuous improvement and provides support.\n",
        "\n",
        "### 2. What is an interpreter in Python?\n",
        "An interpreter in Python is a program that executes Python code. It reads the source code line-by-line, translates it into machine code, and executes it. This allows for interactive execution and immediate feedback, which is useful for development and debugging.\n",
        "\n",
        "### 3. What are pre-defined keywords in Python?\n",
        "  Pre-defined keywords in Python are reserved words with special meanings and cannot be used as variable names. Examples include `if`, `else`, `for`, `while`, `def`, `class`, `True`, `False`, and many others.\n",
        "\n",
        "### 4. Can keywords be used as variable names?\n",
        "No, keywords cannot be used as variable names in Python. Using a keyword as a variable name will result in a syntax error because keywords have special meanings in the language.\n",
        "\n",
        "### 5. What is mutability in Python?\n",
        "Mutability refers to the ability of an object to change its state or contents after it is created. In Python, objects like lists, dictionaries, and sets are mutable, meaning their contents can be modified. Objects like integers, strings, and tuples are immutable, meaning their contents cannot be changed once created.\n",
        "\n",
        "### 6. Why are lists mutable, but tuples are immutable?\n",
        " Lists are mutable because they are designed to allow modification of their contents, such as adding, removing, or changing elements. This flexibility makes lists suitable for dynamic collections of data. **Tuples**, on the other hand, are immutable to provide a fixed and unchangeable sequence of elements. This immutability ensures that the tuple's contents remain constant, which can be useful for representing fixed data structures and for performance optimization.\n",
        "\n",
        "### 7. What is the difference between “==” and “is” operators in Python?\n",
        "The `==` operator checks if the values of two objects are equal, while the `is` operator checks if two objects refer to the same memory location. In other words, `==` compares the contents, and `is` compares the identities of the objects.\n",
        "\n",
        "### 8. What are logical operators in Python?\n",
        " Logical operators in Python are used to perform logical operations on boolean values. The three logical operators are:\n",
        "- `and`: Returns `True` if both operands are `True`.\n",
        "- `or`: Returns `True` if at least one operand is `True`.\n",
        "- `not`: Returns `True` if the operand is `False`, and vice versa.\n",
        "\n",
        "### 9. What is type casting in Python?\n",
        " Type casting in Python refers to the process of converting one data type to another. This can be done using built-in functions like `int()`, `float()`, `str()`, and `bool()`.\n",
        "\n",
        "### 10. What is the difference between implicit and explicit type casting?\n",
        "- Implicit Type Casting: Python automatically converts one data type to another when required, without the programmer's intervention. For example, when adding an integer and a float, Python converts the integer to a float implicitly.\n",
        "- Explicit Type Casting: The programmer explicitly converts one data type to another using type conversion functions like `int()`, `float()`, `str()`, and `bool()`.\n",
        "\n",
        "### 11. What is the purpose of conditional statements in Python?\n",
        "  Conditional statements in Python are used to execute a block of code only if a specified condition is true. They allow the program to make decisions and control the flow of execution. Examples of conditional statements are `if`, `elif`, and `else`.\n",
        "\n",
        "### 12. How does the elif statement work?\n",
        "The `elif` statement, short for \"else if,\" is used to check multiple conditions in sequence. It follows an `if` statement and provides an alternative condition to check if the previous `if` or `elif` conditions are false. If the `elif` condition is true, its corresponding block of code is executed.\n",
        "\n",
        "### 13. What is the difference between for and while loops?\n",
        "- For Loop: A `for` loop is used to iterate over a sequence (e.g., list, tuple, string) or a range of numbers. It is used when the number of iterations is known or finite.\n",
        "- While Loop: A `while` loop is used to repeatedly execute a block of code as long as a specified condition is true. It is used when the number of iterations is not known in advance.\n",
        "\n",
        "### 14. Describe a scenario where a while loop is more suitable than a for loop.\n",
        "A `while` loop is more suitable when you need to repeat an action until a certain condition is met, and the number of iterations is not known in advance. For example, reading user input until the user enters a specific value or continuously checking the status of a process until it completes.\n",
        "\n",
        "I hope this helps! If you have any more questions or need further clarification, feel free to ask. 😊\n"
      ],
      "metadata": {
        "id": "nRiURBkBoJl0"
      }
    },
    {
      "cell_type": "markdown",
      "source": [],
      "metadata": {
        "id": "veQVAJEZVyd5"
      }
    },
    {
      "cell_type": "code",
      "execution_count": null,
      "metadata": {
        "colab": {
          "base_uri": "https://localhost:8080/"
        },
        "id": "K-e9-_SzoFei",
        "outputId": "9eb7da5c-1008-464f-a983-9bf951ec295c"
      },
      "outputs": [
        {
          "output_type": "stream",
          "name": "stdout",
          "text": [
            "Hello, World!\n"
          ]
        }
      ],
      "source": [
        "#1. Write a Python program to print \"Hello, World!\"\n",
        "\n",
        "print(\"Hello, World!\")\n"
      ]
    },
    {
      "cell_type": "code",
      "source": [
        "#2. Write a Python program that displays your name and age.\n",
        "\n",
        "# Display my name and age\n",
        "name = \"Souradeep\"\n",
        "age = \"24\"\n",
        "print(\"Hello! My name is\", name, \"and I am\", age, \"years old.\")\n"
      ],
      "metadata": {
        "colab": {
          "base_uri": "https://localhost:8080/"
        },
        "id": "BAs5w-eoo_Bo",
        "outputId": "9722eed3-1f2a-4373-ba6b-2a2a296402da"
      },
      "execution_count": null,
      "outputs": [
        {
          "output_type": "stream",
          "name": "stdout",
          "text": [
            "Hello! My name is Souradeep and I am 24 years old.\n"
          ]
        }
      ]
    },
    {
      "cell_type": "code",
      "source": [
        "#3. Write code to print all the pre-defined keywords in Python using the keyword library.\n",
        "\n",
        "import keyword\n",
        "\n",
        "# Print all pre-defined keywords in Python\n",
        "keywords = keyword.kwlist\n",
        "print(\"Python Keywords:\")\n",
        "for kw in keywords:\n",
        "    print(kw)\n"
      ],
      "metadata": {
        "colab": {
          "base_uri": "https://localhost:8080/"
        },
        "id": "WBcwgeSEpkOA",
        "outputId": "c091d1df-cb14-423e-fbb5-7971334ffd70"
      },
      "execution_count": null,
      "outputs": [
        {
          "output_type": "stream",
          "name": "stdout",
          "text": [
            "Python Keywords:\n",
            "False\n",
            "None\n",
            "True\n",
            "and\n",
            "as\n",
            "assert\n",
            "async\n",
            "await\n",
            "break\n",
            "class\n",
            "continue\n",
            "def\n",
            "del\n",
            "elif\n",
            "else\n",
            "except\n",
            "finally\n",
            "for\n",
            "from\n",
            "global\n",
            "if\n",
            "import\n",
            "in\n",
            "is\n",
            "lambda\n",
            "nonlocal\n",
            "not\n",
            "or\n",
            "pass\n",
            "raise\n",
            "return\n",
            "try\n",
            "while\n",
            "with\n",
            "yield\n"
          ]
        }
      ]
    },
    {
      "cell_type": "code",
      "source": [
        "import keyword\n",
        "\n",
        "# Function to check if a word is a Python keyword\n",
        "def is_keyword(word):\n",
        "    return keyword.iskeyword(word)\n",
        "\n",
        "# Get user input\n",
        "word = input(\"Enter a word to check if it is a Python keyword: \")\n",
        "\n",
        "# Check if the word is a keyword\n",
        "if is_keyword(word):\n",
        "    print(f\"'{word}' is a Python keyword.\")\n",
        "else:\n",
        "    print(f\"'{word}' is not a Python keyword.\")\n"
      ],
      "metadata": {
        "colab": {
          "base_uri": "https://localhost:8080/"
        },
        "id": "o59xQXhvrjM8",
        "outputId": "ad1471e3-34f5-4afe-e84d-8830faebf608"
      },
      "execution_count": null,
      "outputs": [
        {
          "output_type": "stream",
          "name": "stdout",
          "text": [
            "Enter a word to check if it is a Python keyword: hello\n",
            "'hello' is not a Python keyword.\n"
          ]
        }
      ]
    },
    {
      "cell_type": "code",
      "source": [
        "#5.  Create a list and tuple in Python, and demonstrate how attempting to change an element works differently for each.\n",
        "\n",
        "\n",
        "# Creating a list\n",
        "my_list = [1, 2, 3, 4, 5]\n",
        "print(\"Original list:\", my_list)\n",
        "\n",
        "# Changing an element in the list\n",
        "my_list[2] = 10\n",
        "print(\"Modified list:\", my_list)\n",
        "\n",
        "# Creating a tuple\n",
        "my_tuple = (1, 2, 3, 4, 5)\n",
        "print(\"\\nOriginal tuple:\", my_tuple)\n",
        "\n",
        "# Trying to change an element in the tuple (this will raise an error)\n",
        "try:\n",
        "    my_tuple[2] = 10\n",
        "except TypeError as e:\n",
        "    print(\"Error:\", e)\n"
      ],
      "metadata": {
        "colab": {
          "base_uri": "https://localhost:8080/"
        },
        "id": "bp1wYOCorzfz",
        "outputId": "7387f772-6255-442a-bd29-8672299b9ee4"
      },
      "execution_count": null,
      "outputs": [
        {
          "output_type": "stream",
          "name": "stdout",
          "text": [
            "Original list: [1, 2, 3, 4, 5]\n",
            "Modified list: [1, 2, 10, 4, 5]\n",
            "\n",
            "Original tuple: (1, 2, 3, 4, 5)\n",
            "Error: 'tuple' object does not support item assignment\n"
          ]
        }
      ]
    },
    {
      "cell_type": "code",
      "source": [
        "#6. Write a function to demonstrate the behavior of mutable and immutable arguments.\n",
        "\n",
        "\n",
        "def demonstrate_mutable_immutable(arg1, arg2):\n",
        "    # Print original values\n",
        "    print(\"Original values:\")\n",
        "    print(\"arg1 (immutable):\", arg1)\n",
        "    print(\"arg2 (mutable):\", arg2)\n",
        "\n",
        "    # Try to change the immutable argument (integer)\n",
        "    arg1 += 1\n",
        "    # Try to change the mutable argument (list)\n",
        "    arg2.append(10)\n",
        "\n",
        "    # Print modified values\n",
        "    print(\"Modified values:\")\n",
        "    print(\"arg1 (immutable):\", arg1)\n",
        "    print(\"arg2 (mutable):\", arg2)\n",
        "\n",
        "# Initialize an immutable argument (integer) and a mutable argument (list)\n",
        "immutable_arg = 5\n",
        "mutable_arg = [1, 2, 3]\n",
        "\n",
        "# Call the function\n",
        "demonstrate_mutable_immutable(immutable_arg, mutable_arg)\n",
        "\n",
        "# Print the values outside the function\n",
        "print(\"\\nValues outside the function:\")\n",
        "print(\"immutable_arg:\", immutable_arg)\n",
        "print(\"mutable_arg:\", mutable_arg)\n"
      ],
      "metadata": {
        "colab": {
          "base_uri": "https://localhost:8080/"
        },
        "id": "LkPxxiS-sm3g",
        "outputId": "eaa463eb-f9cf-4fb2-c28f-6bde867ecbd0"
      },
      "execution_count": null,
      "outputs": [
        {
          "output_type": "stream",
          "name": "stdout",
          "text": [
            "Original values:\n",
            "arg1 (immutable): 5\n",
            "arg2 (mutable): [1, 2, 3]\n",
            "Modified values:\n",
            "arg1 (immutable): 6\n",
            "arg2 (mutable): [1, 2, 3, 10]\n",
            "\n",
            "Values outside the function:\n",
            "immutable_arg: 5\n",
            "mutable_arg: [1, 2, 3, 10]\n"
          ]
        }
      ]
    },
    {
      "cell_type": "code",
      "source": [
        "#7. Write a program that performs basic arithmetic operations on two user-input numbers.\n",
        "\n",
        "# Function to perform basic arithmetic operations\n",
        "def perform_arithmetic_operations(num1, num2):\n",
        "    # Addition\n",
        "    addition = num1 + num2\n",
        "    # Subtraction\n",
        "    subtraction = num1 - num2\n",
        "    # Multiplication\n",
        "    multiplication = num1 * num2\n",
        "    # Division\n",
        "    division = num1 / num2 if num2 != 0 else \"undefined\"  # Avoid division by zero\n",
        "\n",
        "    return addition, subtraction, multiplication, division\n",
        "\n",
        "# Get user input for two numbers\n",
        "num1 = float(input(\"Enter the first number: \"))\n",
        "num2 = float(input(\"Enter the second number: \"))\n",
        "\n",
        "# Perform arithmetic operations\n",
        "add, sub, mul, div = perform_arithmetic_operations(num1, num2)\n",
        "\n",
        "# Display results\n",
        "print(f\"Addition: {num1} + {num2} = {add}\")\n",
        "print(f\"Subtraction: {num1} - {num2} = {sub}\")\n",
        "print(f\"Multiplication: {num1} * {num2} = {mul}\")\n",
        "print(f\"Division: {num1} / {num2} = {div}\")\n"
      ],
      "metadata": {
        "colab": {
          "base_uri": "https://localhost:8080/"
        },
        "id": "bYRRRZfctNie",
        "outputId": "f8dcce2d-27c1-43a0-c2d1-bb0aecae22c8"
      },
      "execution_count": null,
      "outputs": [
        {
          "output_type": "stream",
          "name": "stdout",
          "text": [
            "Enter the first number: 45\n",
            "Enter the second number: 85\n",
            "Addition: 45.0 + 85.0 = 130.0\n",
            "Subtraction: 45.0 - 85.0 = -40.0\n",
            "Multiplication: 45.0 * 85.0 = 3825.0\n",
            "Division: 45.0 / 85.0 = 0.5294117647058824\n"
          ]
        }
      ]
    },
    {
      "cell_type": "code",
      "source": [
        "#8. Write a program to demonstrate the use of logical operators\n",
        "\n",
        "# Function to demonstrate logical operators\n",
        "def logical_operators_demo(a, b):\n",
        "    # Logical AND\n",
        "    result_and = a and b\n",
        "    print(f\"{a} AND {b} = {result_and}\")\n",
        "\n",
        "    # Logical OR\n",
        "    result_or = a or b\n",
        "    print(f\"{a} OR {b} = {result_or}\")\n",
        "\n",
        "    # Logical NOT\n",
        "    result_not_a = not a\n",
        "    result_not_b = not b\n",
        "    print(f\"NOT {a} = {result_not_a}\")\n",
        "    print(f\"NOT {b} = {result_not_b}\")\n",
        "\n",
        "# Get user input for two boolean values (True or False)\n",
        "a = bool(int(input(\"Enter the first boolean value (0 for False, 1 for True): \")))\n",
        "b = bool(int(input(\"Enter the second boolean value (0 for False, 1 for True): \")))\n",
        "\n",
        "# Demonstrate logical operators\n",
        "logical_operators_demo(a, b)\n"
      ],
      "metadata": {
        "colab": {
          "base_uri": "https://localhost:8080/"
        },
        "id": "hkODoPh9tYI4",
        "outputId": "3cd0ae24-bf5f-4bbc-87e9-4191f1fb1693"
      },
      "execution_count": null,
      "outputs": [
        {
          "output_type": "stream",
          "name": "stdout",
          "text": [
            "Enter the first boolean value (0 for False, 1 for True): 1\n",
            "Enter the second boolean value (0 for False, 1 for True): 1\n",
            "True AND True = True\n",
            "True OR True = True\n",
            "NOT True = False\n",
            "NOT True = False\n"
          ]
        }
      ]
    },
    {
      "cell_type": "markdown",
      "source": [],
      "metadata": {
        "id": "RxgK5L7-oICt"
      }
    },
    {
      "cell_type": "code",
      "source": [
        "#9. Write a Python program to convert user input from string to integer, float, and boolean types.\n",
        "\n",
        "# Get user input as a string\n",
        "user_input = input(\"Enter a value: \")\n",
        "\n",
        "# Convert the input to integer, float, and boolean types\n",
        "try:\n",
        "    int_value = int(user_input)\n",
        "    print(f\"The integer value is: {int_value}\")\n",
        "except ValueError:\n",
        "    print(\"Cannot convert to integer.\")\n",
        "\n",
        "try:\n",
        "    float_value = float(user_input)\n",
        "    print(f\"The float value is: {float_value}\")\n",
        "except ValueError:\n",
        "    print(\"Cannot convert to float.\")\n",
        "\n",
        "bool_value = bool(user_input)\n",
        "print(f\"The boolean value is: {bool_value}\")\n"
      ],
      "metadata": {
        "colab": {
          "base_uri": "https://localhost:8080/"
        },
        "id": "scs-XqmMtxZW",
        "outputId": "b79ed845-559a-4726-bcb4-891ba9998fb4"
      },
      "execution_count": null,
      "outputs": [
        {
          "output_type": "stream",
          "name": "stdout",
          "text": [
            "Enter a value: 56\n",
            "The integer value is: 56\n",
            "The float value is: 56.0\n",
            "The boolean value is: True\n"
          ]
        }
      ]
    },
    {
      "cell_type": "code",
      "source": [
        "#10. Write code to demonstrate type casting with list elements\n",
        "\n",
        " # Original list of strings\n",
        "str_list = [\"1\", \"0.2\", \"3.5\", \"4.855\", \"5\"]\n",
        "\n",
        "# Convert the list of strings to a list of integers (only for elements that can be converted to integers)\n",
        "int_list = [int(x) for x in str_list if x.isdigit()]\n",
        "print(\"List of integers:\", int_list)\n",
        "\n",
        "# Convert the list of strings to a list of floats\n",
        "float_list = [float(x) for x in str_list]\n",
        "print(\"List of floats:\", float_list)\n",
        "\n",
        "# Convert the list of strings to a list of booleans\n",
        "bool_list = [bool(x) for x in str_list]\n",
        "print(\"List of booleans:\", bool_list)\n"
      ],
      "metadata": {
        "colab": {
          "base_uri": "https://localhost:8080/"
        },
        "id": "7dUvBFjntxOm",
        "outputId": "e3a107e7-9121-4061-a865-a92e1b396ed7"
      },
      "execution_count": null,
      "outputs": [
        {
          "output_type": "stream",
          "name": "stdout",
          "text": [
            "List of integers: [1, 5]\n",
            "List of floats: [1.0, 0.2, 3.5, 4.855, 5.0]\n",
            "List of booleans: [True, True, True, True, True]\n"
          ]
        }
      ]
    },
    {
      "cell_type": "code",
      "source": [
        "#11. Write a program that checks if a number is positive, negative, or zero.\n",
        "\n",
        "# Function to check if a number is positive, negative, or zero\n",
        "def check_number(num):\n",
        "    if num > 0:\n",
        "        return \"The number is positive.\"\n",
        "    elif num < 0:\n",
        "        return \"The number is negative.\"\n",
        "    else:\n",
        "        return \"The number is zero.\"\n",
        "\n",
        "# Get user input\n",
        "number = float(input(\"Enter a number: \"))\n",
        "\n",
        "# Check the number and display the result\n",
        "result = check_number(number)\n",
        "print(result)\n"
      ],
      "metadata": {
        "colab": {
          "base_uri": "https://localhost:8080/"
        },
        "id": "QfmzR1lYuxlw",
        "outputId": "802a58df-75c6-430b-c1a8-ae82b73b6f8e"
      },
      "execution_count": null,
      "outputs": [
        {
          "output_type": "stream",
          "name": "stdout",
          "text": [
            "Enter a number: -89.3\n",
            "The number is negative.\n"
          ]
        }
      ]
    },
    {
      "cell_type": "code",
      "source": [
        "#12.  Write a for loop to print numbers from 1 to 10.\n",
        "\n",
        "\n",
        "# For loop to print numbers from 1 to 10\n",
        "for i in range(1, 11):\n",
        "    print(i)\n"
      ],
      "metadata": {
        "colab": {
          "base_uri": "https://localhost:8080/"
        },
        "id": "1Icg-5fjuxZk",
        "outputId": "f3d1e272-c841-4332-b08e-d4560654fe37"
      },
      "execution_count": null,
      "outputs": [
        {
          "output_type": "stream",
          "name": "stdout",
          "text": [
            "1\n",
            "2\n",
            "3\n",
            "4\n",
            "5\n",
            "6\n",
            "7\n",
            "8\n",
            "9\n",
            "10\n"
          ]
        }
      ]
    },
    {
      "cell_type": "code",
      "source": [
        "#13  Write a Python program to find the sum of all even numbers between 1 and 50.\n",
        "\n",
        "# Initialize the sum\n",
        "sum_of_evens = 0\n",
        "\n",
        "# Loop through numbers from 1 to 50\n",
        "for num in range(1, 51):\n",
        "    if num % 2 == 0:  # Check if the number is even\n",
        "        sum_of_evens += num  # Add the even number to the sum\n",
        "\n",
        "# Print the result\n",
        "print(\"The sum of all even numbers between 1 and 50 is:\", sum_of_evens)\n"
      ],
      "metadata": {
        "colab": {
          "base_uri": "https://localhost:8080/"
        },
        "id": "y-eZeZViuxOn",
        "outputId": "297ea31f-0dc0-4986-dd93-6228525654d8"
      },
      "execution_count": null,
      "outputs": [
        {
          "output_type": "stream",
          "name": "stdout",
          "text": [
            "The sum of all even numbers between 1 and 50 is: 650\n"
          ]
        }
      ]
    },
    {
      "cell_type": "code",
      "source": [
        "#14.Write a program to reverse a string using a while loop.\n",
        "\n",
        "# Function to reverse a string using a while loop\n",
        "def reverse_string(s):\n",
        "    reversed_s = \"\"\n",
        "    index = len(s) - 1\n",
        "    while index >= 0:\n",
        "        reversed_s += s[index]\n",
        "        index -= 1\n",
        "    return reversed_s\n",
        "\n",
        "# Get user input\n",
        "original_string = input(\"Enter a string to reverse: \")\n",
        "\n",
        "# Reverse the string\n",
        "reversed_string = reverse_string(original_string)\n",
        "\n",
        "# Display the result\n",
        "print(\"Reversed string:\", reversed_string)\n"
      ],
      "metadata": {
        "colab": {
          "base_uri": "https://localhost:8080/"
        },
        "id": "3-KacZVquw2a",
        "outputId": "992f70bb-4236-4935-8302-01ec6ba1eb66"
      },
      "execution_count": null,
      "outputs": [
        {
          "output_type": "stream",
          "name": "stdout",
          "text": [
            "Enter a string to reverse: was\n",
            "Reversed string: saw\n"
          ]
        }
      ]
    },
    {
      "cell_type": "code",
      "source": [
        "#15. Write a Python program to calculate the factorial of a number provided by the user using a while loop.\n",
        "\n",
        "\n",
        "# Function to calculate factorial using a while loop\n",
        "def calculate_factorial(n):\n",
        "    factorial = 1\n",
        "    while n > 0:\n",
        "        factorial *= n\n",
        "        n -= 1\n",
        "    return factorial\n",
        "\n",
        "# Get user input\n",
        "number = int(input(\"Enter a number to calculate its factorial: \"))\n",
        "\n",
        "# Calculate the factorial\n",
        "result = calculate_factorial(number)\n",
        "\n",
        "# Display the result\n",
        "print(f\"The factorial of {number} is: {result}\")\n",
        "\n",
        "\n"
      ],
      "metadata": {
        "colab": {
          "base_uri": "https://localhost:8080/"
        },
        "id": "UbEZ6I7SwZIz",
        "outputId": "02490a0a-734b-45cf-9044-ced548b1dc26"
      },
      "execution_count": null,
      "outputs": [
        {
          "output_type": "stream",
          "name": "stdout",
          "text": [
            "Enter a number to calculate its factorial: 7\n",
            "The factorial of 7 is: 5040\n"
          ]
        }
      ]
    }
  ]
}